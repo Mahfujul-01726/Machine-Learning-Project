{
 "cells": [
  {
   "cell_type": "markdown",
   "id": "8ef98604",
   "metadata": {
    "papermill": {
     "duration": 0.007261,
     "end_time": "2025-01-07T10:04:13.240749",
     "exception": false,
     "start_time": "2025-01-07T10:04:13.233488",
     "status": "completed"
    },
    "tags": []
   },
   "source": [
    "**In This project, we are going to analyze some Sales data within 12 months**"
   ]
  },
  {
   "cell_type": "code",
   "execution_count": 1,
   "id": "98dbc510",
   "metadata": {
    "_cell_guid": "b1076dfc-b9ad-4769-8c92-a6c4dae69d19",
    "_uuid": "8f2839f25d086af736a60e9eeb907d3b93b6e0e5",
    "execution": {
     "iopub.execute_input": "2025-01-07T10:04:13.255037Z",
     "iopub.status.busy": "2025-01-07T10:04:13.254602Z",
     "iopub.status.idle": "2025-01-07T10:04:13.639760Z",
     "shell.execute_reply": "2025-01-07T10:04:13.638522Z"
    },
    "papermill": {
     "duration": 0.394182,
     "end_time": "2025-01-07T10:04:13.641572",
     "exception": false,
     "start_time": "2025-01-07T10:04:13.247390",
     "status": "completed"
    },
    "tags": []
   },
   "outputs": [
    {
     "name": "stdout",
     "output_type": "stream",
     "text": [
      "/kaggle/input/pandasdata/Sales_August_2019.csv\n",
      "/kaggle/input/pandasdata/Sales_May_2019.csv\n",
      "/kaggle/input/pandasdata/Sales_February_2019.csv\n",
      "/kaggle/input/pandasdata/Sales_November_2019.csv\n",
      "/kaggle/input/pandasdata/Sales_January_2019.csv\n",
      "/kaggle/input/pandasdata/Sales_March_2019.csv\n",
      "/kaggle/input/pandasdata/Sales_September_2019.csv\n",
      "/kaggle/input/pandasdata/Sales_April_2019.csv\n",
      "/kaggle/input/pandasdata/Sales_July_2019.csv\n",
      "/kaggle/input/pandasdata/Sales_October_2019.csv\n",
      "/kaggle/input/pandasdata/Sales_June_2019.csv\n",
      "/kaggle/input/pandasdata/Sales_December_2019.csv\n"
     ]
    }
   ],
   "source": [
    "# This Python 3 environment comes with many helpful analytics libraries installed\n",
    "# It is defined by the kaggle/python Docker image: https://github.com/kaggle/docker-python\n",
    "# For example, here's several helpful packages to load\n",
    "\n",
    "import numpy as np # linear algebra\n",
    "import pandas as pd # data processing, CSV file I/O (e.g. pd.read_csv)\n",
    "\n",
    "# Input data files are available in the read-only \"../input/\" directory\n",
    "# For example, running this (by clicking run or pressing Shift+Enter) will list all files under the input directory\n",
    "\n",
    "import os\n",
    "for dirname, _, filenames in os.walk('/kaggle/input'):\n",
    "    for filename in filenames:\n",
    "        print(os.path.join(dirname, filename))\n",
    "\n",
    "# You can write up to 20GB to the current directory (/kaggle/working/) that gets preserved as output when you create a version using \"Save & Run All\" \n",
    "# You can also write temporary files to /kaggle/temp/, but they won't be saved outside of the current session"
   ]
  },
  {
   "cell_type": "code",
   "execution_count": 2,
   "id": "3e5402bf",
   "metadata": {
    "execution": {
     "iopub.execute_input": "2025-01-07T10:04:13.656134Z",
     "iopub.status.busy": "2025-01-07T10:04:13.655632Z",
     "iopub.status.idle": "2025-01-07T10:04:15.164357Z",
     "shell.execute_reply": "2025-01-07T10:04:15.163487Z"
    },
    "papermill": {
     "duration": 1.517796,
     "end_time": "2025-01-07T10:04:15.166242",
     "exception": false,
     "start_time": "2025-01-07T10:04:13.648446",
     "status": "completed"
    },
    "tags": []
   },
   "outputs": [],
   "source": [
    "# Import Required libraries\n",
    "\n",
    "import pandas as pd\n",
    "import numpy as np\n",
    "import matplotlib.pyplot as plt\n",
    "import seaborn as sns\n",
    "import glob\n",
    "\n",
    "%matplotlib inline"
   ]
  },
  {
   "cell_type": "code",
   "execution_count": 3,
   "id": "1ad25afb",
   "metadata": {
    "execution": {
     "iopub.execute_input": "2025-01-07T10:04:15.180847Z",
     "iopub.status.busy": "2025-01-07T10:04:15.180366Z",
     "iopub.status.idle": "2025-01-07T10:04:15.805566Z",
     "shell.execute_reply": "2025-01-07T10:04:15.804431Z"
    },
    "papermill": {
     "duration": 0.63455,
     "end_time": "2025-01-07T10:04:15.807652",
     "exception": false,
     "start_time": "2025-01-07T10:04:15.173102",
     "status": "completed"
    },
    "tags": []
   },
   "outputs": [],
   "source": [
    "# Reading all the files in a single dataframe\n",
    "df = pd.concat(map(pd.read_csv, glob.glob('/kaggle/input/pandasdata/*.csv')))"
   ]
  },
  {
   "cell_type": "code",
   "execution_count": 4,
   "id": "ae801207",
   "metadata": {
    "execution": {
     "iopub.execute_input": "2025-01-07T10:04:15.822440Z",
     "iopub.status.busy": "2025-01-07T10:04:15.822123Z",
     "iopub.status.idle": "2025-01-07T10:04:15.840676Z",
     "shell.execute_reply": "2025-01-07T10:04:15.839679Z"
    },
    "papermill": {
     "duration": 0.027515,
     "end_time": "2025-01-07T10:04:15.842143",
     "exception": false,
     "start_time": "2025-01-07T10:04:15.814628",
     "status": "completed"
    },
    "tags": []
   },
   "outputs": [
    {
     "data": {
      "text/html": [
       "<div>\n",
       "<style scoped>\n",
       "    .dataframe tbody tr th:only-of-type {\n",
       "        vertical-align: middle;\n",
       "    }\n",
       "\n",
       "    .dataframe tbody tr th {\n",
       "        vertical-align: top;\n",
       "    }\n",
       "\n",
       "    .dataframe thead th {\n",
       "        text-align: right;\n",
       "    }\n",
       "</style>\n",
       "<table border=\"1\" class=\"dataframe\">\n",
       "  <thead>\n",
       "    <tr style=\"text-align: right;\">\n",
       "      <th></th>\n",
       "      <th>Order ID</th>\n",
       "      <th>Product</th>\n",
       "      <th>Quantity Ordered</th>\n",
       "      <th>Price Each</th>\n",
       "      <th>Order Date</th>\n",
       "      <th>Purchase Address</th>\n",
       "    </tr>\n",
       "  </thead>\n",
       "  <tbody>\n",
       "    <tr>\n",
       "      <th>0</th>\n",
       "      <td>236670</td>\n",
       "      <td>Wired Headphones</td>\n",
       "      <td>2</td>\n",
       "      <td>11.99</td>\n",
       "      <td>08/31/19 22:21</td>\n",
       "      <td>359 Spruce St, Seattle, WA 98101</td>\n",
       "    </tr>\n",
       "    <tr>\n",
       "      <th>1</th>\n",
       "      <td>236671</td>\n",
       "      <td>Bose SoundSport Headphones</td>\n",
       "      <td>1</td>\n",
       "      <td>99.99</td>\n",
       "      <td>08/15/19 15:11</td>\n",
       "      <td>492 Ridge St, Dallas, TX 75001</td>\n",
       "    </tr>\n",
       "    <tr>\n",
       "      <th>2</th>\n",
       "      <td>236672</td>\n",
       "      <td>iPhone</td>\n",
       "      <td>1</td>\n",
       "      <td>700.0</td>\n",
       "      <td>08/06/19 14:40</td>\n",
       "      <td>149 7th St, Portland, OR 97035</td>\n",
       "    </tr>\n",
       "    <tr>\n",
       "      <th>3</th>\n",
       "      <td>236673</td>\n",
       "      <td>AA Batteries (4-pack)</td>\n",
       "      <td>2</td>\n",
       "      <td>3.84</td>\n",
       "      <td>08/29/19 20:59</td>\n",
       "      <td>631 2nd St, Los Angeles, CA 90001</td>\n",
       "    </tr>\n",
       "    <tr>\n",
       "      <th>4</th>\n",
       "      <td>236674</td>\n",
       "      <td>AA Batteries (4-pack)</td>\n",
       "      <td>2</td>\n",
       "      <td>3.84</td>\n",
       "      <td>08/15/19 19:53</td>\n",
       "      <td>736 14th St, New York City, NY 10001</td>\n",
       "    </tr>\n",
       "  </tbody>\n",
       "</table>\n",
       "</div>"
      ],
      "text/plain": [
       "  Order ID                     Product Quantity Ordered Price Each  \\\n",
       "0   236670            Wired Headphones                2      11.99   \n",
       "1   236671  Bose SoundSport Headphones                1      99.99   \n",
       "2   236672                      iPhone                1      700.0   \n",
       "3   236673       AA Batteries (4-pack)                2       3.84   \n",
       "4   236674       AA Batteries (4-pack)                2       3.84   \n",
       "\n",
       "       Order Date                      Purchase Address  \n",
       "0  08/31/19 22:21      359 Spruce St, Seattle, WA 98101  \n",
       "1  08/15/19 15:11        492 Ridge St, Dallas, TX 75001  \n",
       "2  08/06/19 14:40        149 7th St, Portland, OR 97035  \n",
       "3  08/29/19 20:59     631 2nd St, Los Angeles, CA 90001  \n",
       "4  08/15/19 19:53  736 14th St, New York City, NY 10001  "
      ]
     },
     "execution_count": 4,
     "metadata": {},
     "output_type": "execute_result"
    }
   ],
   "source": [
    "df.head()"
   ]
  },
  {
   "cell_type": "code",
   "execution_count": 5,
   "id": "f314477e",
   "metadata": {
    "execution": {
     "iopub.execute_input": "2025-01-07T10:04:15.857648Z",
     "iopub.status.busy": "2025-01-07T10:04:15.857317Z",
     "iopub.status.idle": "2025-01-07T10:04:15.862771Z",
     "shell.execute_reply": "2025-01-07T10:04:15.861995Z"
    },
    "papermill": {
     "duration": 0.014967,
     "end_time": "2025-01-07T10:04:15.864306",
     "exception": false,
     "start_time": "2025-01-07T10:04:15.849339",
     "status": "completed"
    },
    "tags": []
   },
   "outputs": [
    {
     "data": {
      "text/plain": [
       "(186850, 6)"
      ]
     },
     "execution_count": 5,
     "metadata": {},
     "output_type": "execute_result"
    }
   ],
   "source": [
    "# checking the shape of data\n",
    "\n",
    "df.shape"
   ]
  },
  {
   "cell_type": "code",
   "execution_count": 6,
   "id": "a37a0122",
   "metadata": {
    "execution": {
     "iopub.execute_input": "2025-01-07T10:04:15.879206Z",
     "iopub.status.busy": "2025-01-07T10:04:15.878796Z",
     "iopub.status.idle": "2025-01-07T10:04:15.956378Z",
     "shell.execute_reply": "2025-01-07T10:04:15.955128Z"
    },
    "papermill": {
     "duration": 0.086684,
     "end_time": "2025-01-07T10:04:15.957896",
     "exception": false,
     "start_time": "2025-01-07T10:04:15.871212",
     "status": "completed"
    },
    "tags": []
   },
   "outputs": [
    {
     "name": "stdout",
     "output_type": "stream",
     "text": [
      "<class 'pandas.core.frame.DataFrame'>\n",
      "Index: 186850 entries, 0 to 25116\n",
      "Data columns (total 6 columns):\n",
      " #   Column            Non-Null Count   Dtype \n",
      "---  ------            --------------   ----- \n",
      " 0   Order ID          186305 non-null  object\n",
      " 1   Product           186305 non-null  object\n",
      " 2   Quantity Ordered  186305 non-null  object\n",
      " 3   Price Each        186305 non-null  object\n",
      " 4   Order Date        186305 non-null  object\n",
      " 5   Purchase Address  186305 non-null  object\n",
      "dtypes: object(6)\n",
      "memory usage: 10.0+ MB\n"
     ]
    }
   ],
   "source": [
    "df.info()"
   ]
  },
  {
   "cell_type": "code",
   "execution_count": 7,
   "id": "c57c6acb",
   "metadata": {
    "execution": {
     "iopub.execute_input": "2025-01-07T10:04:15.972527Z",
     "iopub.status.busy": "2025-01-07T10:04:15.972227Z",
     "iopub.status.idle": "2025-01-07T10:04:16.400160Z",
     "shell.execute_reply": "2025-01-07T10:04:16.399140Z"
    },
    "papermill": {
     "duration": 0.436825,
     "end_time": "2025-01-07T10:04:16.401684",
     "exception": false,
     "start_time": "2025-01-07T10:04:15.964859",
     "status": "completed"
    },
    "tags": []
   },
   "outputs": [
    {
     "data": {
      "text/html": [
       "<div>\n",
       "<style scoped>\n",
       "    .dataframe tbody tr th:only-of-type {\n",
       "        vertical-align: middle;\n",
       "    }\n",
       "\n",
       "    .dataframe tbody tr th {\n",
       "        vertical-align: top;\n",
       "    }\n",
       "\n",
       "    .dataframe thead th {\n",
       "        text-align: right;\n",
       "    }\n",
       "</style>\n",
       "<table border=\"1\" class=\"dataframe\">\n",
       "  <thead>\n",
       "    <tr style=\"text-align: right;\">\n",
       "      <th></th>\n",
       "      <th>Order ID</th>\n",
       "      <th>Product</th>\n",
       "      <th>Quantity Ordered</th>\n",
       "      <th>Price Each</th>\n",
       "      <th>Order Date</th>\n",
       "      <th>Purchase Address</th>\n",
       "    </tr>\n",
       "  </thead>\n",
       "  <tbody>\n",
       "    <tr>\n",
       "      <th>count</th>\n",
       "      <td>186305</td>\n",
       "      <td>186305</td>\n",
       "      <td>186305</td>\n",
       "      <td>186305</td>\n",
       "      <td>186305</td>\n",
       "      <td>186305</td>\n",
       "    </tr>\n",
       "    <tr>\n",
       "      <th>unique</th>\n",
       "      <td>178438</td>\n",
       "      <td>20</td>\n",
       "      <td>10</td>\n",
       "      <td>24</td>\n",
       "      <td>142396</td>\n",
       "      <td>140788</td>\n",
       "    </tr>\n",
       "    <tr>\n",
       "      <th>top</th>\n",
       "      <td>Order ID</td>\n",
       "      <td>USB-C Charging Cable</td>\n",
       "      <td>1</td>\n",
       "      <td>11.95</td>\n",
       "      <td>Order Date</td>\n",
       "      <td>Purchase Address</td>\n",
       "    </tr>\n",
       "    <tr>\n",
       "      <th>freq</th>\n",
       "      <td>355</td>\n",
       "      <td>21903</td>\n",
       "      <td>168552</td>\n",
       "      <td>21903</td>\n",
       "      <td>355</td>\n",
       "      <td>355</td>\n",
       "    </tr>\n",
       "  </tbody>\n",
       "</table>\n",
       "</div>"
      ],
      "text/plain": [
       "        Order ID               Product Quantity Ordered Price Each  \\\n",
       "count     186305                186305           186305     186305   \n",
       "unique    178438                    20               10         24   \n",
       "top     Order ID  USB-C Charging Cable                1      11.95   \n",
       "freq         355                 21903           168552      21903   \n",
       "\n",
       "        Order Date  Purchase Address  \n",
       "count       186305            186305  \n",
       "unique      142396            140788  \n",
       "top     Order Date  Purchase Address  \n",
       "freq           355               355  "
      ]
     },
     "execution_count": 7,
     "metadata": {},
     "output_type": "execute_result"
    }
   ],
   "source": [
    "# General statistical observations\n",
    "\n",
    "df.describe()"
   ]
  },
  {
   "cell_type": "code",
   "execution_count": 8,
   "id": "f156f30e",
   "metadata": {
    "execution": {
     "iopub.execute_input": "2025-01-07T10:04:16.416776Z",
     "iopub.status.busy": "2025-01-07T10:04:16.416441Z",
     "iopub.status.idle": "2025-01-07T10:04:16.475961Z",
     "shell.execute_reply": "2025-01-07T10:04:16.474953Z"
    },
    "papermill": {
     "duration": 0.068886,
     "end_time": "2025-01-07T10:04:16.477581",
     "exception": false,
     "start_time": "2025-01-07T10:04:16.408695",
     "status": "completed"
    },
    "tags": []
   },
   "outputs": [
    {
     "data": {
      "text/plain": [
       "Order ID            545\n",
       "Product             545\n",
       "Quantity Ordered    545\n",
       "Price Each          545\n",
       "Order Date          545\n",
       "Purchase Address    545\n",
       "dtype: int64"
      ]
     },
     "execution_count": 8,
     "metadata": {},
     "output_type": "execute_result"
    }
   ],
   "source": [
    "# Checking the missed values\n",
    "\n",
    "df.isnull().sum()"
   ]
  },
  {
   "cell_type": "code",
   "execution_count": 9,
   "id": "862bf86e",
   "metadata": {
    "execution": {
     "iopub.execute_input": "2025-01-07T10:04:16.492899Z",
     "iopub.status.busy": "2025-01-07T10:04:16.492570Z",
     "iopub.status.idle": "2025-01-07T10:04:16.499280Z",
     "shell.execute_reply": "2025-01-07T10:04:16.498301Z"
    },
    "papermill": {
     "duration": 0.016017,
     "end_time": "2025-01-07T10:04:16.500771",
     "exception": false,
     "start_time": "2025-01-07T10:04:16.484754",
     "status": "completed"
    },
    "tags": []
   },
   "outputs": [
    {
     "data": {
      "text/plain": [
       "0        08/31/19 22:21\n",
       "1        08/15/19 15:11\n",
       "2        08/06/19 14:40\n",
       "3        08/29/19 20:59\n",
       "4        08/15/19 19:53\n",
       "              ...      \n",
       "25112    12/11/19 20:58\n",
       "25113    12/01/19 12:01\n",
       "25114    12/09/19 06:43\n",
       "25115    12/03/19 10:39\n",
       "25116    12/21/19 21:45\n",
       "Name: Order Date, Length: 186850, dtype: object"
      ]
     },
     "execution_count": 9,
     "metadata": {},
     "output_type": "execute_result"
    }
   ],
   "source": [
    "# Now we change the Date into different single columns!\n",
    "\n",
    "df['Order Date']"
   ]
  },
  {
   "cell_type": "code",
   "execution_count": 10,
   "id": "eb0a3547",
   "metadata": {
    "execution": {
     "iopub.execute_input": "2025-01-07T10:04:16.516857Z",
     "iopub.status.busy": "2025-01-07T10:04:16.516546Z",
     "iopub.status.idle": "2025-01-07T10:04:17.081686Z",
     "shell.execute_reply": "2025-01-07T10:04:17.080692Z"
    },
    "papermill": {
     "duration": 0.574572,
     "end_time": "2025-01-07T10:04:17.083123",
     "exception": false,
     "start_time": "2025-01-07T10:04:16.508551",
     "status": "completed"
    },
    "tags": []
   },
   "outputs": [
    {
     "data": {
      "text/html": [
       "<div>\n",
       "<style scoped>\n",
       "    .dataframe tbody tr th:only-of-type {\n",
       "        vertical-align: middle;\n",
       "    }\n",
       "\n",
       "    .dataframe tbody tr th {\n",
       "        vertical-align: top;\n",
       "    }\n",
       "\n",
       "    .dataframe thead th {\n",
       "        text-align: right;\n",
       "    }\n",
       "</style>\n",
       "<table border=\"1\" class=\"dataframe\">\n",
       "  <thead>\n",
       "    <tr style=\"text-align: right;\">\n",
       "      <th></th>\n",
       "      <th>Order ID</th>\n",
       "      <th>Product</th>\n",
       "      <th>Quantity Ordered</th>\n",
       "      <th>Price Each</th>\n",
       "      <th>Order Date</th>\n",
       "      <th>Purchase Address</th>\n",
       "    </tr>\n",
       "  </thead>\n",
       "  <tbody>\n",
       "    <tr>\n",
       "      <th>0</th>\n",
       "      <td>236670</td>\n",
       "      <td>Wired Headphones</td>\n",
       "      <td>2</td>\n",
       "      <td>11.99</td>\n",
       "      <td>2019-08-31 22:21:00</td>\n",
       "      <td>359 Spruce St, Seattle, WA 98101</td>\n",
       "    </tr>\n",
       "    <tr>\n",
       "      <th>1</th>\n",
       "      <td>236671</td>\n",
       "      <td>Bose SoundSport Headphones</td>\n",
       "      <td>1</td>\n",
       "      <td>99.99</td>\n",
       "      <td>2019-08-15 15:11:00</td>\n",
       "      <td>492 Ridge St, Dallas, TX 75001</td>\n",
       "    </tr>\n",
       "    <tr>\n",
       "      <th>2</th>\n",
       "      <td>236672</td>\n",
       "      <td>iPhone</td>\n",
       "      <td>1</td>\n",
       "      <td>700.0</td>\n",
       "      <td>2019-08-06 14:40:00</td>\n",
       "      <td>149 7th St, Portland, OR 97035</td>\n",
       "    </tr>\n",
       "    <tr>\n",
       "      <th>3</th>\n",
       "      <td>236673</td>\n",
       "      <td>AA Batteries (4-pack)</td>\n",
       "      <td>2</td>\n",
       "      <td>3.84</td>\n",
       "      <td>2019-08-29 20:59:00</td>\n",
       "      <td>631 2nd St, Los Angeles, CA 90001</td>\n",
       "    </tr>\n",
       "    <tr>\n",
       "      <th>4</th>\n",
       "      <td>236674</td>\n",
       "      <td>AA Batteries (4-pack)</td>\n",
       "      <td>2</td>\n",
       "      <td>3.84</td>\n",
       "      <td>2019-08-15 19:53:00</td>\n",
       "      <td>736 14th St, New York City, NY 10001</td>\n",
       "    </tr>\n",
       "  </tbody>\n",
       "</table>\n",
       "</div>"
      ],
      "text/plain": [
       "  Order ID                     Product Quantity Ordered Price Each  \\\n",
       "0   236670            Wired Headphones                2      11.99   \n",
       "1   236671  Bose SoundSport Headphones                1      99.99   \n",
       "2   236672                      iPhone                1      700.0   \n",
       "3   236673       AA Batteries (4-pack)                2       3.84   \n",
       "4   236674       AA Batteries (4-pack)                2       3.84   \n",
       "\n",
       "           Order Date                      Purchase Address  \n",
       "0 2019-08-31 22:21:00      359 Spruce St, Seattle, WA 98101  \n",
       "1 2019-08-15 15:11:00        492 Ridge St, Dallas, TX 75001  \n",
       "2 2019-08-06 14:40:00        149 7th St, Portland, OR 97035  \n",
       "3 2019-08-29 20:59:00     631 2nd St, Los Angeles, CA 90001  \n",
       "4 2019-08-15 19:53:00  736 14th St, New York City, NY 10001  "
      ]
     },
     "execution_count": 10,
     "metadata": {},
     "output_type": "execute_result"
    }
   ],
   "source": [
    "# But first we have to change the format of date\n",
    "\n",
    "df['Order Date']=pd.to_datetime(df['Order Date'], errors='coerce', format='%m/%d/%y %H:%M')\n",
    "df.head()"
   ]
  },
  {
   "cell_type": "code",
   "execution_count": 11,
   "id": "808f2f51",
   "metadata": {
    "execution": {
     "iopub.execute_input": "2025-01-07T10:04:17.098960Z",
     "iopub.status.busy": "2025-01-07T10:04:17.098617Z",
     "iopub.status.idle": "2025-01-07T10:04:17.220231Z",
     "shell.execute_reply": "2025-01-07T10:04:17.219199Z"
    },
    "papermill": {
     "duration": 0.131102,
     "end_time": "2025-01-07T10:04:17.221700",
     "exception": false,
     "start_time": "2025-01-07T10:04:17.090598",
     "status": "completed"
    },
    "tags": []
   },
   "outputs": [
    {
     "data": {
      "text/html": [
       "<div>\n",
       "<style scoped>\n",
       "    .dataframe tbody tr th:only-of-type {\n",
       "        vertical-align: middle;\n",
       "    }\n",
       "\n",
       "    .dataframe tbody tr th {\n",
       "        vertical-align: top;\n",
       "    }\n",
       "\n",
       "    .dataframe thead th {\n",
       "        text-align: right;\n",
       "    }\n",
       "</style>\n",
       "<table border=\"1\" class=\"dataframe\">\n",
       "  <thead>\n",
       "    <tr style=\"text-align: right;\">\n",
       "      <th></th>\n",
       "      <th>Order ID</th>\n",
       "      <th>Product</th>\n",
       "      <th>Quantity Ordered</th>\n",
       "      <th>Price Each</th>\n",
       "      <th>Order Date</th>\n",
       "      <th>Purchase Address</th>\n",
       "      <th>Month</th>\n",
       "      <th>Time</th>\n",
       "    </tr>\n",
       "  </thead>\n",
       "  <tbody>\n",
       "    <tr>\n",
       "      <th>0</th>\n",
       "      <td>236670</td>\n",
       "      <td>Wired Headphones</td>\n",
       "      <td>2</td>\n",
       "      <td>11.99</td>\n",
       "      <td>2019-08-31 22:21:00</td>\n",
       "      <td>359 Spruce St, Seattle, WA 98101</td>\n",
       "      <td>8.0</td>\n",
       "      <td>22:21:00</td>\n",
       "    </tr>\n",
       "    <tr>\n",
       "      <th>1</th>\n",
       "      <td>236671</td>\n",
       "      <td>Bose SoundSport Headphones</td>\n",
       "      <td>1</td>\n",
       "      <td>99.99</td>\n",
       "      <td>2019-08-15 15:11:00</td>\n",
       "      <td>492 Ridge St, Dallas, TX 75001</td>\n",
       "      <td>8.0</td>\n",
       "      <td>15:11:00</td>\n",
       "    </tr>\n",
       "    <tr>\n",
       "      <th>2</th>\n",
       "      <td>236672</td>\n",
       "      <td>iPhone</td>\n",
       "      <td>1</td>\n",
       "      <td>700.0</td>\n",
       "      <td>2019-08-06 14:40:00</td>\n",
       "      <td>149 7th St, Portland, OR 97035</td>\n",
       "      <td>8.0</td>\n",
       "      <td>14:40:00</td>\n",
       "    </tr>\n",
       "    <tr>\n",
       "      <th>3</th>\n",
       "      <td>236673</td>\n",
       "      <td>AA Batteries (4-pack)</td>\n",
       "      <td>2</td>\n",
       "      <td>3.84</td>\n",
       "      <td>2019-08-29 20:59:00</td>\n",
       "      <td>631 2nd St, Los Angeles, CA 90001</td>\n",
       "      <td>8.0</td>\n",
       "      <td>20:59:00</td>\n",
       "    </tr>\n",
       "    <tr>\n",
       "      <th>4</th>\n",
       "      <td>236674</td>\n",
       "      <td>AA Batteries (4-pack)</td>\n",
       "      <td>2</td>\n",
       "      <td>3.84</td>\n",
       "      <td>2019-08-15 19:53:00</td>\n",
       "      <td>736 14th St, New York City, NY 10001</td>\n",
       "      <td>8.0</td>\n",
       "      <td>19:53:00</td>\n",
       "    </tr>\n",
       "  </tbody>\n",
       "</table>\n",
       "</div>"
      ],
      "text/plain": [
       "  Order ID                     Product Quantity Ordered Price Each  \\\n",
       "0   236670            Wired Headphones                2      11.99   \n",
       "1   236671  Bose SoundSport Headphones                1      99.99   \n",
       "2   236672                      iPhone                1      700.0   \n",
       "3   236673       AA Batteries (4-pack)                2       3.84   \n",
       "4   236674       AA Batteries (4-pack)                2       3.84   \n",
       "\n",
       "           Order Date                      Purchase Address  Month      Time  \n",
       "0 2019-08-31 22:21:00      359 Spruce St, Seattle, WA 98101    8.0  22:21:00  \n",
       "1 2019-08-15 15:11:00        492 Ridge St, Dallas, TX 75001    8.0  15:11:00  \n",
       "2 2019-08-06 14:40:00        149 7th St, Portland, OR 97035    8.0  14:40:00  \n",
       "3 2019-08-29 20:59:00     631 2nd St, Los Angeles, CA 90001    8.0  20:59:00  \n",
       "4 2019-08-15 19:53:00  736 14th St, New York City, NY 10001    8.0  19:53:00  "
      ]
     },
     "execution_count": 11,
     "metadata": {},
     "output_type": "execute_result"
    }
   ],
   "source": [
    "# now we can split the date into single columns^^\n",
    "\n",
    "df['Month'] = pd.to_datetime(df['Order Date']).dt.month\n",
    "df['Time'] = pd.to_datetime(df['Order Date']).dt.time\n",
    "df.head()"
   ]
  },
  {
   "cell_type": "code",
   "execution_count": 12,
   "id": "1cc711fc",
   "metadata": {
    "execution": {
     "iopub.execute_input": "2025-01-07T10:04:17.238204Z",
     "iopub.status.busy": "2025-01-07T10:04:17.237828Z",
     "iopub.status.idle": "2025-01-07T10:04:17.255425Z",
     "shell.execute_reply": "2025-01-07T10:04:17.254349Z"
    },
    "papermill": {
     "duration": 0.027473,
     "end_time": "2025-01-07T10:04:17.256973",
     "exception": false,
     "start_time": "2025-01-07T10:04:17.229500",
     "status": "completed"
    },
    "tags": []
   },
   "outputs": [
    {
     "data": {
      "text/html": [
       "<div>\n",
       "<style scoped>\n",
       "    .dataframe tbody tr th:only-of-type {\n",
       "        vertical-align: middle;\n",
       "    }\n",
       "\n",
       "    .dataframe tbody tr th {\n",
       "        vertical-align: top;\n",
       "    }\n",
       "\n",
       "    .dataframe thead th {\n",
       "        text-align: right;\n",
       "    }\n",
       "</style>\n",
       "<table border=\"1\" class=\"dataframe\">\n",
       "  <thead>\n",
       "    <tr style=\"text-align: right;\">\n",
       "      <th></th>\n",
       "      <th>Order ID</th>\n",
       "      <th>Product</th>\n",
       "      <th>Quantity Ordered</th>\n",
       "      <th>Price Each</th>\n",
       "      <th>Order Date</th>\n",
       "      <th>Purchase Address</th>\n",
       "      <th>Month</th>\n",
       "      <th>Time</th>\n",
       "    </tr>\n",
       "  </thead>\n",
       "  <tbody>\n",
       "    <tr>\n",
       "      <th>0</th>\n",
       "      <td>236670</td>\n",
       "      <td>Wired Headphones</td>\n",
       "      <td>2</td>\n",
       "      <td>11.99</td>\n",
       "      <td>2019-08-31 22:21:00</td>\n",
       "      <td>359 Spruce St, Seattle, WA 98101</td>\n",
       "      <td>8</td>\n",
       "      <td>22:21:00</td>\n",
       "    </tr>\n",
       "    <tr>\n",
       "      <th>1</th>\n",
       "      <td>236671</td>\n",
       "      <td>Bose SoundSport Headphones</td>\n",
       "      <td>1</td>\n",
       "      <td>99.99</td>\n",
       "      <td>2019-08-15 15:11:00</td>\n",
       "      <td>492 Ridge St, Dallas, TX 75001</td>\n",
       "      <td>8</td>\n",
       "      <td>15:11:00</td>\n",
       "    </tr>\n",
       "    <tr>\n",
       "      <th>2</th>\n",
       "      <td>236672</td>\n",
       "      <td>iPhone</td>\n",
       "      <td>1</td>\n",
       "      <td>700.0</td>\n",
       "      <td>2019-08-06 14:40:00</td>\n",
       "      <td>149 7th St, Portland, OR 97035</td>\n",
       "      <td>8</td>\n",
       "      <td>14:40:00</td>\n",
       "    </tr>\n",
       "    <tr>\n",
       "      <th>3</th>\n",
       "      <td>236673</td>\n",
       "      <td>AA Batteries (4-pack)</td>\n",
       "      <td>2</td>\n",
       "      <td>3.84</td>\n",
       "      <td>2019-08-29 20:59:00</td>\n",
       "      <td>631 2nd St, Los Angeles, CA 90001</td>\n",
       "      <td>8</td>\n",
       "      <td>20:59:00</td>\n",
       "    </tr>\n",
       "    <tr>\n",
       "      <th>4</th>\n",
       "      <td>236674</td>\n",
       "      <td>AA Batteries (4-pack)</td>\n",
       "      <td>2</td>\n",
       "      <td>3.84</td>\n",
       "      <td>2019-08-15 19:53:00</td>\n",
       "      <td>736 14th St, New York City, NY 10001</td>\n",
       "      <td>8</td>\n",
       "      <td>19:53:00</td>\n",
       "    </tr>\n",
       "  </tbody>\n",
       "</table>\n",
       "</div>"
      ],
      "text/plain": [
       "  Order ID                     Product Quantity Ordered Price Each  \\\n",
       "0   236670            Wired Headphones                2      11.99   \n",
       "1   236671  Bose SoundSport Headphones                1      99.99   \n",
       "2   236672                      iPhone                1      700.0   \n",
       "3   236673       AA Batteries (4-pack)                2       3.84   \n",
       "4   236674       AA Batteries (4-pack)                2       3.84   \n",
       "\n",
       "           Order Date                      Purchase Address  Month      Time  \n",
       "0 2019-08-31 22:21:00      359 Spruce St, Seattle, WA 98101      8  22:21:00  \n",
       "1 2019-08-15 15:11:00        492 Ridge St, Dallas, TX 75001      8  15:11:00  \n",
       "2 2019-08-06 14:40:00        149 7th St, Portland, OR 97035      8  14:40:00  \n",
       "3 2019-08-29 20:59:00     631 2nd St, Los Angeles, CA 90001      8  20:59:00  \n",
       "4 2019-08-15 19:53:00  736 14th St, New York City, NY 10001      8  19:53:00  "
      ]
     },
     "execution_count": 12,
     "metadata": {},
     "output_type": "execute_result"
    }
   ],
   "source": [
    "# Turining our month column into integer!!\n",
    "df['Month']=df['Month'].fillna(0)\n",
    "df['Month']=df['Month'].astype('int')\n",
    "df.head()"
   ]
  },
  {
   "cell_type": "code",
   "execution_count": 13,
   "id": "efab077a",
   "metadata": {
    "execution": {
     "iopub.execute_input": "2025-01-07T10:04:17.273887Z",
     "iopub.status.busy": "2025-01-07T10:04:17.273533Z",
     "iopub.status.idle": "2025-01-07T10:04:17.442402Z",
     "shell.execute_reply": "2025-01-07T10:04:17.441387Z"
    },
    "papermill": {
     "duration": 0.179047,
     "end_time": "2025-01-07T10:04:17.444033",
     "exception": false,
     "start_time": "2025-01-07T10:04:17.264986",
     "status": "completed"
    },
    "tags": []
   },
   "outputs": [
    {
     "data": {
      "text/html": [
       "<div>\n",
       "<style scoped>\n",
       "    .dataframe tbody tr th:only-of-type {\n",
       "        vertical-align: middle;\n",
       "    }\n",
       "\n",
       "    .dataframe tbody tr th {\n",
       "        vertical-align: top;\n",
       "    }\n",
       "\n",
       "    .dataframe thead th {\n",
       "        text-align: right;\n",
       "    }\n",
       "</style>\n",
       "<table border=\"1\" class=\"dataframe\">\n",
       "  <thead>\n",
       "    <tr style=\"text-align: right;\">\n",
       "      <th></th>\n",
       "      <th>Order ID</th>\n",
       "      <th>Product</th>\n",
       "      <th>Quantity Ordered</th>\n",
       "      <th>Price Each</th>\n",
       "      <th>Order Date</th>\n",
       "      <th>Purchase Address</th>\n",
       "      <th>Month</th>\n",
       "      <th>Time</th>\n",
       "      <th>Sales</th>\n",
       "    </tr>\n",
       "  </thead>\n",
       "  <tbody>\n",
       "    <tr>\n",
       "      <th>0</th>\n",
       "      <td>236670</td>\n",
       "      <td>Wired Headphones</td>\n",
       "      <td>2.0</td>\n",
       "      <td>11.99</td>\n",
       "      <td>2019-08-31 22:21:00</td>\n",
       "      <td>359 Spruce St, Seattle, WA 98101</td>\n",
       "      <td>8</td>\n",
       "      <td>22:21:00</td>\n",
       "      <td>23.98</td>\n",
       "    </tr>\n",
       "    <tr>\n",
       "      <th>1</th>\n",
       "      <td>236671</td>\n",
       "      <td>Bose SoundSport Headphones</td>\n",
       "      <td>1.0</td>\n",
       "      <td>99.99</td>\n",
       "      <td>2019-08-15 15:11:00</td>\n",
       "      <td>492 Ridge St, Dallas, TX 75001</td>\n",
       "      <td>8</td>\n",
       "      <td>15:11:00</td>\n",
       "      <td>99.99</td>\n",
       "    </tr>\n",
       "    <tr>\n",
       "      <th>2</th>\n",
       "      <td>236672</td>\n",
       "      <td>iPhone</td>\n",
       "      <td>1.0</td>\n",
       "      <td>700.00</td>\n",
       "      <td>2019-08-06 14:40:00</td>\n",
       "      <td>149 7th St, Portland, OR 97035</td>\n",
       "      <td>8</td>\n",
       "      <td>14:40:00</td>\n",
       "      <td>700.00</td>\n",
       "    </tr>\n",
       "    <tr>\n",
       "      <th>3</th>\n",
       "      <td>236673</td>\n",
       "      <td>AA Batteries (4-pack)</td>\n",
       "      <td>2.0</td>\n",
       "      <td>3.84</td>\n",
       "      <td>2019-08-29 20:59:00</td>\n",
       "      <td>631 2nd St, Los Angeles, CA 90001</td>\n",
       "      <td>8</td>\n",
       "      <td>20:59:00</td>\n",
       "      <td>7.68</td>\n",
       "    </tr>\n",
       "    <tr>\n",
       "      <th>4</th>\n",
       "      <td>236674</td>\n",
       "      <td>AA Batteries (4-pack)</td>\n",
       "      <td>2.0</td>\n",
       "      <td>3.84</td>\n",
       "      <td>2019-08-15 19:53:00</td>\n",
       "      <td>736 14th St, New York City, NY 10001</td>\n",
       "      <td>8</td>\n",
       "      <td>19:53:00</td>\n",
       "      <td>7.68</td>\n",
       "    </tr>\n",
       "  </tbody>\n",
       "</table>\n",
       "</div>"
      ],
      "text/plain": [
       "  Order ID                     Product  Quantity Ordered  Price Each  \\\n",
       "0   236670            Wired Headphones               2.0       11.99   \n",
       "1   236671  Bose SoundSport Headphones               1.0       99.99   \n",
       "2   236672                      iPhone               1.0      700.00   \n",
       "3   236673       AA Batteries (4-pack)               2.0        3.84   \n",
       "4   236674       AA Batteries (4-pack)               2.0        3.84   \n",
       "\n",
       "           Order Date                      Purchase Address  Month      Time  \\\n",
       "0 2019-08-31 22:21:00      359 Spruce St, Seattle, WA 98101      8  22:21:00   \n",
       "1 2019-08-15 15:11:00        492 Ridge St, Dallas, TX 75001      8  15:11:00   \n",
       "2 2019-08-06 14:40:00        149 7th St, Portland, OR 97035      8  14:40:00   \n",
       "3 2019-08-29 20:59:00     631 2nd St, Los Angeles, CA 90001      8  20:59:00   \n",
       "4 2019-08-15 19:53:00  736 14th St, New York City, NY 10001      8  19:53:00   \n",
       "\n",
       "    Sales  \n",
       "0   23.98  \n",
       "1   99.99  \n",
       "2  700.00  \n",
       "3    7.68  \n",
       "4    7.68  "
      ]
     },
     "execution_count": 13,
     "metadata": {},
     "output_type": "execute_result"
    }
   ],
   "source": [
    "# converting Quantity Ordered and  Price column into integer using pd.to_numeric^^\n",
    "\n",
    "df['Quantity Ordered']= pd.to_numeric(df['Quantity Ordered'],errors='coerce')\n",
    "df['Price Each']= pd.to_numeric(df['Price Each'],errors='coerce')\n",
    "\n",
    "# Add a new column for sale^^\n",
    "df['Sales'] = df['Quantity Ordered'] * df['Price Each']\n",
    "df.head()"
   ]
  },
  {
   "cell_type": "markdown",
   "id": "eae45e00",
   "metadata": {
    "papermill": {
     "duration": 0.007702,
     "end_time": "2025-01-07T10:04:17.460009",
     "exception": false,
     "start_time": "2025-01-07T10:04:17.452307",
     "status": "completed"
    },
    "tags": []
   },
   "source": [
    "# What was the best month for sales?? And how much was earned in that month??"
   ]
  },
  {
   "cell_type": "code",
   "execution_count": 14,
   "id": "220983b8",
   "metadata": {
    "execution": {
     "iopub.execute_input": "2025-01-07T10:04:17.476812Z",
     "iopub.status.busy": "2025-01-07T10:04:17.476472Z",
     "iopub.status.idle": "2025-01-07T10:04:17.503051Z",
     "shell.execute_reply": "2025-01-07T10:04:17.502047Z"
    },
    "papermill": {
     "duration": 0.037013,
     "end_time": "2025-01-07T10:04:17.504762",
     "exception": false,
     "start_time": "2025-01-07T10:04:17.467749",
     "status": "completed"
    },
    "tags": []
   },
   "outputs": [
    {
     "data": {
      "text/html": [
       "<div>\n",
       "<style scoped>\n",
       "    .dataframe tbody tr th:only-of-type {\n",
       "        vertical-align: middle;\n",
       "    }\n",
       "\n",
       "    .dataframe tbody tr th {\n",
       "        vertical-align: top;\n",
       "    }\n",
       "\n",
       "    .dataframe thead th {\n",
       "        text-align: right;\n",
       "    }\n",
       "</style>\n",
       "<table border=\"1\" class=\"dataframe\">\n",
       "  <thead>\n",
       "    <tr style=\"text-align: right;\">\n",
       "      <th></th>\n",
       "      <th>Quantity Ordered</th>\n",
       "      <th>Price Each</th>\n",
       "      <th>Sales</th>\n",
       "    </tr>\n",
       "    <tr>\n",
       "      <th>Month</th>\n",
       "      <th></th>\n",
       "      <th></th>\n",
       "      <th></th>\n",
       "    </tr>\n",
       "  </thead>\n",
       "  <tbody>\n",
       "    <tr>\n",
       "      <th>0</th>\n",
       "      <td>0.0</td>\n",
       "      <td>0.00</td>\n",
       "      <td>0.00</td>\n",
       "    </tr>\n",
       "    <tr>\n",
       "      <th>1</th>\n",
       "      <td>10903.0</td>\n",
       "      <td>1811768.38</td>\n",
       "      <td>1822256.73</td>\n",
       "    </tr>\n",
       "    <tr>\n",
       "      <th>2</th>\n",
       "      <td>13449.0</td>\n",
       "      <td>2188884.72</td>\n",
       "      <td>2202022.42</td>\n",
       "    </tr>\n",
       "    <tr>\n",
       "      <th>3</th>\n",
       "      <td>17005.0</td>\n",
       "      <td>2791207.83</td>\n",
       "      <td>2807100.38</td>\n",
       "    </tr>\n",
       "    <tr>\n",
       "      <th>4</th>\n",
       "      <td>20558.0</td>\n",
       "      <td>3367671.02</td>\n",
       "      <td>3390670.24</td>\n",
       "    </tr>\n",
       "    <tr>\n",
       "      <th>5</th>\n",
       "      <td>18667.0</td>\n",
       "      <td>3135125.13</td>\n",
       "      <td>3152606.75</td>\n",
       "    </tr>\n",
       "    <tr>\n",
       "      <th>6</th>\n",
       "      <td>15253.0</td>\n",
       "      <td>2562025.61</td>\n",
       "      <td>2577802.26</td>\n",
       "    </tr>\n",
       "    <tr>\n",
       "      <th>7</th>\n",
       "      <td>16072.0</td>\n",
       "      <td>2632539.56</td>\n",
       "      <td>2647775.76</td>\n",
       "    </tr>\n",
       "    <tr>\n",
       "      <th>8</th>\n",
       "      <td>13448.0</td>\n",
       "      <td>2230345.42</td>\n",
       "      <td>2244467.88</td>\n",
       "    </tr>\n",
       "    <tr>\n",
       "      <th>9</th>\n",
       "      <td>13109.0</td>\n",
       "      <td>2084992.09</td>\n",
       "      <td>2097560.13</td>\n",
       "    </tr>\n",
       "    <tr>\n",
       "      <th>10</th>\n",
       "      <td>22703.0</td>\n",
       "      <td>3715554.83</td>\n",
       "      <td>3736726.88</td>\n",
       "    </tr>\n",
       "    <tr>\n",
       "      <th>11</th>\n",
       "      <td>19798.0</td>\n",
       "      <td>3180600.68</td>\n",
       "      <td>3199603.20</td>\n",
       "    </tr>\n",
       "    <tr>\n",
       "      <th>12</th>\n",
       "      <td>28114.0</td>\n",
       "      <td>4588415.41</td>\n",
       "      <td>4613443.34</td>\n",
       "    </tr>\n",
       "  </tbody>\n",
       "</table>\n",
       "</div>"
      ],
      "text/plain": [
       "       Quantity Ordered  Price Each       Sales\n",
       "Month                                          \n",
       "0                   0.0        0.00        0.00\n",
       "1               10903.0  1811768.38  1822256.73\n",
       "2               13449.0  2188884.72  2202022.42\n",
       "3               17005.0  2791207.83  2807100.38\n",
       "4               20558.0  3367671.02  3390670.24\n",
       "5               18667.0  3135125.13  3152606.75\n",
       "6               15253.0  2562025.61  2577802.26\n",
       "7               16072.0  2632539.56  2647775.76\n",
       "8               13448.0  2230345.42  2244467.88\n",
       "9               13109.0  2084992.09  2097560.13\n",
       "10              22703.0  3715554.83  3736726.88\n",
       "11              19798.0  3180600.68  3199603.20\n",
       "12              28114.0  4588415.41  4613443.34"
      ]
     },
     "execution_count": 14,
     "metadata": {},
     "output_type": "execute_result"
    }
   ],
   "source": [
    "# Check for missing values after conversion\n",
    "df['Month'] = df['Month'].fillna(0).astype(int)\n",
    "\n",
    "# Group and sum numeric columns only\n",
    "df_grouped = df.groupby('Month').sum(numeric_only=True)\n",
    "\n",
    "# Display the result\n",
    "df_grouped\n"
   ]
  },
  {
   "cell_type": "code",
   "execution_count": 15,
   "id": "ae47f4d3",
   "metadata": {
    "execution": {
     "iopub.execute_input": "2025-01-07T10:04:17.522368Z",
     "iopub.status.busy": "2025-01-07T10:04:17.521993Z",
     "iopub.status.idle": "2025-01-07T10:04:17.798136Z",
     "shell.execute_reply": "2025-01-07T10:04:17.797097Z"
    },
    "papermill": {
     "duration": 0.286813,
     "end_time": "2025-01-07T10:04:17.799850",
     "exception": false,
     "start_time": "2025-01-07T10:04:17.513037",
     "status": "completed"
    },
    "tags": []
   },
   "outputs": [
    {
     "data": {
      "image/png": "[encoded data removed]",
      "text/plain": [
       "<Figure size 640x480 with 1 Axes>"
      ]
     },
     "metadata": {},
     "output_type": "display_data"
    }
   ],
   "source": [
    "# Remove rows where 'Month' is zero\n",
    "df_grouped = df_grouped[df_grouped.index != 0]\n",
    "\n",
    "# Plot again\n",
    "months = range(1, 13)\n",
    "plt.bar(months, df_grouped['Sales'])\n",
    "plt.xlabel('Month')\n",
    "plt.ylabel('Sales in USD')\n",
    "plt.title('Monthly Sales Data')\n",
    "plt.show()\n"
   ]
  },
  {
   "cell_type": "markdown",
   "id": "f65a556e",
   "metadata": {
    "papermill": {
     "duration": 0.008322,
     "end_time": "2025-01-07T10:04:17.816838",
     "exception": false,
     "start_time": "2025-01-07T10:04:17.808516",
     "status": "completed"
    },
    "tags": []
   },
   "source": [
    "# What city sold the most product??"
   ]
  },
  {
   "cell_type": "code",
   "execution_count": 16,
   "id": "1c591bc4",
   "metadata": {
    "execution": {
     "iopub.execute_input": "2025-01-07T10:04:17.834440Z",
     "iopub.status.busy": "2025-01-07T10:04:17.834118Z",
     "iopub.status.idle": "2025-01-07T10:04:17.846998Z",
     "shell.execute_reply": "2025-01-07T10:04:17.845989Z"
    },
    "papermill": {
     "duration": 0.023577,
     "end_time": "2025-01-07T10:04:17.848540",
     "exception": false,
     "start_time": "2025-01-07T10:04:17.824963",
     "status": "completed"
    },
    "tags": []
   },
   "outputs": [
    {
     "data": {
      "text/html": [
       "<div>\n",
       "<style scoped>\n",
       "    .dataframe tbody tr th:only-of-type {\n",
       "        vertical-align: middle;\n",
       "    }\n",
       "\n",
       "    .dataframe tbody tr th {\n",
       "        vertical-align: top;\n",
       "    }\n",
       "\n",
       "    .dataframe thead th {\n",
       "        text-align: right;\n",
       "    }\n",
       "</style>\n",
       "<table border=\"1\" class=\"dataframe\">\n",
       "  <thead>\n",
       "    <tr style=\"text-align: right;\">\n",
       "      <th></th>\n",
       "      <th>Order ID</th>\n",
       "      <th>Product</th>\n",
       "      <th>Quantity Ordered</th>\n",
       "      <th>Price Each</th>\n",
       "      <th>Order Date</th>\n",
       "      <th>Purchase Address</th>\n",
       "      <th>Month</th>\n",
       "      <th>Time</th>\n",
       "      <th>Sales</th>\n",
       "    </tr>\n",
       "  </thead>\n",
       "  <tbody>\n",
       "    <tr>\n",
       "      <th>0</th>\n",
       "      <td>236670</td>\n",
       "      <td>Wired Headphones</td>\n",
       "      <td>2.0</td>\n",
       "      <td>11.99</td>\n",
       "      <td>2019-08-31 22:21:00</td>\n",
       "      <td>359 Spruce St, Seattle, WA 98101</td>\n",
       "      <td>8</td>\n",
       "      <td>22:21:00</td>\n",
       "      <td>23.98</td>\n",
       "    </tr>\n",
       "    <tr>\n",
       "      <th>1</th>\n",
       "      <td>236671</td>\n",
       "      <td>Bose SoundSport Headphones</td>\n",
       "      <td>1.0</td>\n",
       "      <td>99.99</td>\n",
       "      <td>2019-08-15 15:11:00</td>\n",
       "      <td>492 Ridge St, Dallas, TX 75001</td>\n",
       "      <td>8</td>\n",
       "      <td>15:11:00</td>\n",
       "      <td>99.99</td>\n",
       "    </tr>\n",
       "    <tr>\n",
       "      <th>2</th>\n",
       "      <td>236672</td>\n",
       "      <td>iPhone</td>\n",
       "      <td>1.0</td>\n",
       "      <td>700.00</td>\n",
       "      <td>2019-08-06 14:40:00</td>\n",
       "      <td>149 7th St, Portland, OR 97035</td>\n",
       "      <td>8</td>\n",
       "      <td>14:40:00</td>\n",
       "      <td>700.00</td>\n",
       "    </tr>\n",
       "    <tr>\n",
       "      <th>3</th>\n",
       "      <td>236673</td>\n",
       "      <td>AA Batteries (4-pack)</td>\n",
       "      <td>2.0</td>\n",
       "      <td>3.84</td>\n",
       "      <td>2019-08-29 20:59:00</td>\n",
       "      <td>631 2nd St, Los Angeles, CA 90001</td>\n",
       "      <td>8</td>\n",
       "      <td>20:59:00</td>\n",
       "      <td>7.68</td>\n",
       "    </tr>\n",
       "    <tr>\n",
       "      <th>4</th>\n",
       "      <td>236674</td>\n",
       "      <td>AA Batteries (4-pack)</td>\n",
       "      <td>2.0</td>\n",
       "      <td>3.84</td>\n",
       "      <td>2019-08-15 19:53:00</td>\n",
       "      <td>736 14th St, New York City, NY 10001</td>\n",
       "      <td>8</td>\n",
       "      <td>19:53:00</td>\n",
       "      <td>7.68</td>\n",
       "    </tr>\n",
       "  </tbody>\n",
       "</table>\n",
       "</div>"
      ],
      "text/plain": [
       "  Order ID                     Product  Quantity Ordered  Price Each  \\\n",
       "0   236670            Wired Headphones               2.0       11.99   \n",
       "1   236671  Bose SoundSport Headphones               1.0       99.99   \n",
       "2   236672                      iPhone               1.0      700.00   \n",
       "3   236673       AA Batteries (4-pack)               2.0        3.84   \n",
       "4   236674       AA Batteries (4-pack)               2.0        3.84   \n",
       "\n",
       "           Order Date                      Purchase Address  Month      Time  \\\n",
       "0 2019-08-31 22:21:00      359 Spruce St, Seattle, WA 98101      8  22:21:00   \n",
       "1 2019-08-15 15:11:00        492 Ridge St, Dallas, TX 75001      8  15:11:00   \n",
       "2 2019-08-06 14:40:00        149 7th St, Portland, OR 97035      8  14:40:00   \n",
       "3 2019-08-29 20:59:00     631 2nd St, Los Angeles, CA 90001      8  20:59:00   \n",
       "4 2019-08-15 19:53:00  736 14th St, New York City, NY 10001      8  19:53:00   \n",
       "\n",
       "    Sales  \n",
       "0   23.98  \n",
       "1   99.99  \n",
       "2  700.00  \n",
       "3    7.68  \n",
       "4    7.68  "
      ]
     },
     "execution_count": 16,
     "metadata": {},
     "output_type": "execute_result"
    }
   ],
   "source": [
    "df.head()"
   ]
  },
  {
   "cell_type": "code",
   "execution_count": 17,
   "id": "43cc615d",
   "metadata": {
    "execution": {
     "iopub.execute_input": "2025-01-07T10:04:17.866805Z",
     "iopub.status.busy": "2025-01-07T10:04:17.866441Z",
     "iopub.status.idle": "2025-01-07T10:04:17.943759Z",
     "shell.execute_reply": "2025-01-07T10:04:17.942746Z"
    },
    "papermill": {
     "duration": 0.088388,
     "end_time": "2025-01-07T10:04:17.945450",
     "exception": false,
     "start_time": "2025-01-07T10:04:17.857062",
     "status": "completed"
    },
    "tags": []
   },
   "outputs": [
    {
     "data": {
      "text/html": [
       "<div>\n",
       "<style scoped>\n",
       "    .dataframe tbody tr th:only-of-type {\n",
       "        vertical-align: middle;\n",
       "    }\n",
       "\n",
       "    .dataframe tbody tr th {\n",
       "        vertical-align: top;\n",
       "    }\n",
       "\n",
       "    .dataframe thead th {\n",
       "        text-align: right;\n",
       "    }\n",
       "</style>\n",
       "<table border=\"1\" class=\"dataframe\">\n",
       "  <thead>\n",
       "    <tr style=\"text-align: right;\">\n",
       "      <th></th>\n",
       "      <th>Order ID</th>\n",
       "      <th>Product</th>\n",
       "      <th>Quantity Ordered</th>\n",
       "      <th>Price Each</th>\n",
       "      <th>Order Date</th>\n",
       "      <th>Purchase Address</th>\n",
       "      <th>Month</th>\n",
       "      <th>Time</th>\n",
       "      <th>Sales</th>\n",
       "    </tr>\n",
       "  </thead>\n",
       "  <tbody>\n",
       "    <tr>\n",
       "      <th>0</th>\n",
       "      <td>236670</td>\n",
       "      <td>Wired Headphones</td>\n",
       "      <td>2.0</td>\n",
       "      <td>11.99</td>\n",
       "      <td>2019-08-31 22:21:00</td>\n",
       "      <td>359 Spruce St, Seattle, WA 98101</td>\n",
       "      <td>8</td>\n",
       "      <td>22:21:00</td>\n",
       "      <td>23.98</td>\n",
       "    </tr>\n",
       "    <tr>\n",
       "      <th>1</th>\n",
       "      <td>236671</td>\n",
       "      <td>Bose SoundSport Headphones</td>\n",
       "      <td>1.0</td>\n",
       "      <td>99.99</td>\n",
       "      <td>2019-08-15 15:11:00</td>\n",
       "      <td>492 Ridge St, Dallas, TX 75001</td>\n",
       "      <td>8</td>\n",
       "      <td>15:11:00</td>\n",
       "      <td>99.99</td>\n",
       "    </tr>\n",
       "    <tr>\n",
       "      <th>2</th>\n",
       "      <td>236672</td>\n",
       "      <td>iPhone</td>\n",
       "      <td>1.0</td>\n",
       "      <td>700.00</td>\n",
       "      <td>2019-08-06 14:40:00</td>\n",
       "      <td>149 7th St, Portland, OR 97035</td>\n",
       "      <td>8</td>\n",
       "      <td>14:40:00</td>\n",
       "      <td>700.00</td>\n",
       "    </tr>\n",
       "    <tr>\n",
       "      <th>3</th>\n",
       "      <td>236673</td>\n",
       "      <td>AA Batteries (4-pack)</td>\n",
       "      <td>2.0</td>\n",
       "      <td>3.84</td>\n",
       "      <td>2019-08-29 20:59:00</td>\n",
       "      <td>631 2nd St, Los Angeles, CA 90001</td>\n",
       "      <td>8</td>\n",
       "      <td>20:59:00</td>\n",
       "      <td>7.68</td>\n",
       "    </tr>\n",
       "    <tr>\n",
       "      <th>4</th>\n",
       "      <td>236674</td>\n",
       "      <td>AA Batteries (4-pack)</td>\n",
       "      <td>2.0</td>\n",
       "      <td>3.84</td>\n",
       "      <td>2019-08-15 19:53:00</td>\n",
       "      <td>736 14th St, New York City, NY 10001</td>\n",
       "      <td>8</td>\n",
       "      <td>19:53:00</td>\n",
       "      <td>7.68</td>\n",
       "    </tr>\n",
       "  </tbody>\n",
       "</table>\n",
       "</div>"
      ],
      "text/plain": [
       "  Order ID                     Product  Quantity Ordered  Price Each  \\\n",
       "0   236670            Wired Headphones               2.0       11.99   \n",
       "1   236671  Bose SoundSport Headphones               1.0       99.99   \n",
       "2   236672                      iPhone               1.0      700.00   \n",
       "3   236673       AA Batteries (4-pack)               2.0        3.84   \n",
       "4   236674       AA Batteries (4-pack)               2.0        3.84   \n",
       "\n",
       "           Order Date                      Purchase Address  Month      Time  \\\n",
       "0 2019-08-31 22:21:00      359 Spruce St, Seattle, WA 98101      8  22:21:00   \n",
       "1 2019-08-15 15:11:00        492 Ridge St, Dallas, TX 75001      8  15:11:00   \n",
       "2 2019-08-06 14:40:00        149 7th St, Portland, OR 97035      8  14:40:00   \n",
       "3 2019-08-29 20:59:00     631 2nd St, Los Angeles, CA 90001      8  20:59:00   \n",
       "4 2019-08-15 19:53:00  736 14th St, New York City, NY 10001      8  19:53:00   \n",
       "\n",
       "    Sales  \n",
       "0   23.98  \n",
       "1   99.99  \n",
       "2  700.00  \n",
       "3    7.68  \n",
       "4    7.68  "
      ]
     },
     "execution_count": 17,
     "metadata": {},
     "output_type": "execute_result"
    }
   ],
   "source": [
    "# Gettign rid of NaN values from dataset\n",
    "\n",
    "df=df.dropna(axis=0)\n",
    "df.head()"
   ]
  },
  {
   "cell_type": "code",
   "execution_count": 18,
   "id": "6830900a",
   "metadata": {
    "execution": {
     "iopub.execute_input": "2025-01-07T10:04:17.964311Z",
     "iopub.status.busy": "2025-01-07T10:04:17.963910Z",
     "iopub.status.idle": "2025-01-07T10:04:18.067230Z",
     "shell.execute_reply": "2025-01-07T10:04:18.066197Z"
    },
    "papermill": {
     "duration": 0.114468,
     "end_time": "2025-01-07T10:04:18.068808",
     "exception": false,
     "start_time": "2025-01-07T10:04:17.954340",
     "status": "completed"
    },
    "tags": []
   },
   "outputs": [
    {
     "data": {
      "text/html": [
       "<div>\n",
       "<style scoped>\n",
       "    .dataframe tbody tr th:only-of-type {\n",
       "        vertical-align: middle;\n",
       "    }\n",
       "\n",
       "    .dataframe tbody tr th {\n",
       "        vertical-align: top;\n",
       "    }\n",
       "\n",
       "    .dataframe thead th {\n",
       "        text-align: right;\n",
       "    }\n",
       "</style>\n",
       "<table border=\"1\" class=\"dataframe\">\n",
       "  <thead>\n",
       "    <tr style=\"text-align: right;\">\n",
       "      <th></th>\n",
       "      <th>Order ID</th>\n",
       "      <th>Product</th>\n",
       "      <th>Quantity Ordered</th>\n",
       "      <th>Price Each</th>\n",
       "      <th>Order Date</th>\n",
       "      <th>Purchase Address</th>\n",
       "      <th>Month</th>\n",
       "      <th>Time</th>\n",
       "      <th>Sales</th>\n",
       "      <th>City</th>\n",
       "    </tr>\n",
       "  </thead>\n",
       "  <tbody>\n",
       "    <tr>\n",
       "      <th>0</th>\n",
       "      <td>236670</td>\n",
       "      <td>Wired Headphones</td>\n",
       "      <td>2.0</td>\n",
       "      <td>11.99</td>\n",
       "      <td>2019-08-31 22:21:00</td>\n",
       "      <td>359 Spruce St, Seattle, WA 98101</td>\n",
       "      <td>8</td>\n",
       "      <td>22:21:00</td>\n",
       "      <td>23.98</td>\n",
       "      <td>Seattle</td>\n",
       "    </tr>\n",
       "    <tr>\n",
       "      <th>1</th>\n",
       "      <td>236671</td>\n",
       "      <td>Bose SoundSport Headphones</td>\n",
       "      <td>1.0</td>\n",
       "      <td>99.99</td>\n",
       "      <td>2019-08-15 15:11:00</td>\n",
       "      <td>492 Ridge St, Dallas, TX 75001</td>\n",
       "      <td>8</td>\n",
       "      <td>15:11:00</td>\n",
       "      <td>99.99</td>\n",
       "      <td>Dallas</td>\n",
       "    </tr>\n",
       "    <tr>\n",
       "      <th>2</th>\n",
       "      <td>236672</td>\n",
       "      <td>iPhone</td>\n",
       "      <td>1.0</td>\n",
       "      <td>700.00</td>\n",
       "      <td>2019-08-06 14:40:00</td>\n",
       "      <td>149 7th St, Portland, OR 97035</td>\n",
       "      <td>8</td>\n",
       "      <td>14:40:00</td>\n",
       "      <td>700.00</td>\n",
       "      <td>Portland</td>\n",
       "    </tr>\n",
       "    <tr>\n",
       "      <th>3</th>\n",
       "      <td>236673</td>\n",
       "      <td>AA Batteries (4-pack)</td>\n",
       "      <td>2.0</td>\n",
       "      <td>3.84</td>\n",
       "      <td>2019-08-29 20:59:00</td>\n",
       "      <td>631 2nd St, Los Angeles, CA 90001</td>\n",
       "      <td>8</td>\n",
       "      <td>20:59:00</td>\n",
       "      <td>7.68</td>\n",
       "      <td>Los Angeles</td>\n",
       "    </tr>\n",
       "    <tr>\n",
       "      <th>4</th>\n",
       "      <td>236674</td>\n",
       "      <td>AA Batteries (4-pack)</td>\n",
       "      <td>2.0</td>\n",
       "      <td>3.84</td>\n",
       "      <td>2019-08-15 19:53:00</td>\n",
       "      <td>736 14th St, New York City, NY 10001</td>\n",
       "      <td>8</td>\n",
       "      <td>19:53:00</td>\n",
       "      <td>7.68</td>\n",
       "      <td>New York City</td>\n",
       "    </tr>\n",
       "  </tbody>\n",
       "</table>\n",
       "</div>"
      ],
      "text/plain": [
       "  Order ID                     Product  Quantity Ordered  Price Each  \\\n",
       "0   236670            Wired Headphones               2.0       11.99   \n",
       "1   236671  Bose SoundSport Headphones               1.0       99.99   \n",
       "2   236672                      iPhone               1.0      700.00   \n",
       "3   236673       AA Batteries (4-pack)               2.0        3.84   \n",
       "4   236674       AA Batteries (4-pack)               2.0        3.84   \n",
       "\n",
       "           Order Date                      Purchase Address  Month      Time  \\\n",
       "0 2019-08-31 22:21:00      359 Spruce St, Seattle, WA 98101      8  22:21:00   \n",
       "1 2019-08-15 15:11:00        492 Ridge St, Dallas, TX 75001      8  15:11:00   \n",
       "2 2019-08-06 14:40:00        149 7th St, Portland, OR 97035      8  14:40:00   \n",
       "3 2019-08-29 20:59:00     631 2nd St, Los Angeles, CA 90001      8  20:59:00   \n",
       "4 2019-08-15 19:53:00  736 14th St, New York City, NY 10001      8  19:53:00   \n",
       "\n",
       "    Sales            City  \n",
       "0   23.98         Seattle  \n",
       "1   99.99          Dallas  \n",
       "2  700.00        Portland  \n",
       "3    7.68     Los Angeles  \n",
       "4    7.68   New York City  "
      ]
     },
     "execution_count": 18,
     "metadata": {},
     "output_type": "execute_result"
    }
   ],
   "source": [
    "# Add the \"City\" column and split the city from Purchase address using lambda\n",
    "\n",
    "def city(adress):\n",
    "    return adress.split(',')[1]\n",
    "\n",
    "df['City'] = df['Purchase Address'].apply(lambda x: city(x))\n",
    "df.head()"
   ]
  },
  {
   "cell_type": "code",
   "execution_count": 19,
   "id": "f73a4b86",
   "metadata": {
    "execution": {
     "iopub.execute_input": "2025-01-07T10:04:18.087964Z",
     "iopub.status.busy": "2025-01-07T10:04:18.087617Z",
     "iopub.status.idle": "2025-01-07T10:04:18.119396Z",
     "shell.execute_reply": "2025-01-07T10:04:18.118344Z"
    },
    "papermill": {
     "duration": 0.043201,
     "end_time": "2025-01-07T10:04:18.120965",
     "exception": false,
     "start_time": "2025-01-07T10:04:18.077764",
     "status": "completed"
    },
    "tags": []
   },
   "outputs": [
    {
     "data": {
      "text/html": [
       "<div>\n",
       "<style scoped>\n",
       "    .dataframe tbody tr th:only-of-type {\n",
       "        vertical-align: middle;\n",
       "    }\n",
       "\n",
       "    .dataframe tbody tr th {\n",
       "        vertical-align: top;\n",
       "    }\n",
       "\n",
       "    .dataframe thead th {\n",
       "        text-align: right;\n",
       "    }\n",
       "</style>\n",
       "<table border=\"1\" class=\"dataframe\">\n",
       "  <thead>\n",
       "    <tr style=\"text-align: right;\">\n",
       "      <th></th>\n",
       "      <th>Quantity Ordered</th>\n",
       "      <th>Price Each</th>\n",
       "      <th>Month</th>\n",
       "      <th>Sales</th>\n",
       "    </tr>\n",
       "    <tr>\n",
       "      <th>City</th>\n",
       "      <th></th>\n",
       "      <th></th>\n",
       "      <th></th>\n",
       "      <th></th>\n",
       "    </tr>\n",
       "  </thead>\n",
       "  <tbody>\n",
       "    <tr>\n",
       "      <th>Atlanta</th>\n",
       "      <td>16602.0</td>\n",
       "      <td>2779908.20</td>\n",
       "      <td>104794</td>\n",
       "      <td>2795498.58</td>\n",
       "    </tr>\n",
       "    <tr>\n",
       "      <th>Austin</th>\n",
       "      <td>11153.0</td>\n",
       "      <td>1809873.61</td>\n",
       "      <td>69829</td>\n",
       "      <td>1819581.75</td>\n",
       "    </tr>\n",
       "    <tr>\n",
       "      <th>Boston</th>\n",
       "      <td>22528.0</td>\n",
       "      <td>3637409.77</td>\n",
       "      <td>141112</td>\n",
       "      <td>3661642.01</td>\n",
       "    </tr>\n",
       "    <tr>\n",
       "      <th>Dallas</th>\n",
       "      <td>16730.0</td>\n",
       "      <td>2752627.82</td>\n",
       "      <td>104620</td>\n",
       "      <td>2767975.40</td>\n",
       "    </tr>\n",
       "    <tr>\n",
       "      <th>Los Angeles</th>\n",
       "      <td>33289.0</td>\n",
       "      <td>5421435.23</td>\n",
       "      <td>208325</td>\n",
       "      <td>5452570.80</td>\n",
       "    </tr>\n",
       "    <tr>\n",
       "      <th>New York City</th>\n",
       "      <td>27932.0</td>\n",
       "      <td>4635370.83</td>\n",
       "      <td>175741</td>\n",
       "      <td>4664317.43</td>\n",
       "    </tr>\n",
       "    <tr>\n",
       "      <th>Portland</th>\n",
       "      <td>14053.0</td>\n",
       "      <td>2307747.47</td>\n",
       "      <td>87765</td>\n",
       "      <td>2320490.61</td>\n",
       "    </tr>\n",
       "    <tr>\n",
       "      <th>San Francisco</th>\n",
       "      <td>50239.0</td>\n",
       "      <td>8211461.74</td>\n",
       "      <td>315520</td>\n",
       "      <td>8262203.91</td>\n",
       "    </tr>\n",
       "    <tr>\n",
       "      <th>Seattle</th>\n",
       "      <td>16553.0</td>\n",
       "      <td>2733296.01</td>\n",
       "      <td>104941</td>\n",
       "      <td>2747755.48</td>\n",
       "    </tr>\n",
       "  </tbody>\n",
       "</table>\n",
       "</div>"
      ],
      "text/plain": [
       "                Quantity Ordered  Price Each   Month       Sales\n",
       "City                                                            \n",
       " Atlanta                 16602.0  2779908.20  104794  2795498.58\n",
       " Austin                  11153.0  1809873.61   69829  1819581.75\n",
       " Boston                  22528.0  3637409.77  141112  3661642.01\n",
       " Dallas                  16730.0  2752627.82  104620  2767975.40\n",
       " Los Angeles             33289.0  5421435.23  208325  5452570.80\n",
       " New York City           27932.0  4635370.83  175741  4664317.43\n",
       " Portland                14053.0  2307747.47   87765  2320490.61\n",
       " San Francisco           50239.0  8211461.74  315520  8262203.91\n",
       " Seattle                 16553.0  2733296.01  104941  2747755.48"
      ]
     },
     "execution_count": 19,
     "metadata": {},
     "output_type": "execute_result"
    }
   ],
   "source": [
    "result2 = df.groupby('City').sum(numeric_only=True)\n",
    "result2"
   ]
  },
  {
   "cell_type": "markdown",
   "id": "7d760e02",
   "metadata": {
    "papermill": {
     "duration": 0.008892,
     "end_time": "2025-01-07T10:04:18.139058",
     "exception": false,
     "start_time": "2025-01-07T10:04:18.130166",
     "status": "completed"
    },
    "tags": []
   },
   "source": [
    "# visulalizing the result"
   ]
  },
  {
   "cell_type": "code",
   "execution_count": 20,
   "id": "116e102d",
   "metadata": {
    "execution": {
     "iopub.execute_input": "2025-01-07T10:04:18.158616Z",
     "iopub.status.busy": "2025-01-07T10:04:18.158297Z",
     "iopub.status.idle": "2025-01-07T10:04:18.334727Z",
     "shell.execute_reply": "2025-01-07T10:04:18.333762Z"
    },
    "papermill": {
     "duration": 0.188309,
     "end_time": "2025-01-07T10:04:18.336578",
     "exception": false,
     "start_time": "2025-01-07T10:04:18.148269",
     "status": "completed"
    },
    "tags": []
   },
   "outputs": [
    {
     "data": {
      "image/png": "[encoded data removed]",
      "text/plain": [
       "<Figure size 640x480 with 1 Axes>"
      ]
     },
     "metadata": {},
     "output_type": "display_data"
    }
   ],
   "source": [
    "cities = df['City'].unique()\n",
    "\n",
    "plt.bar(cities, result2['Sales'], color='brown')\n",
    "plt.xticks(cities, rotation='vertical')\n",
    "plt.show()\n",
    "# this didnt match to the answer. True answer should be San Francisco"
   ]
  },
  {
   "cell_type": "markdown",
   "id": "83ae44e5",
   "metadata": {
    "papermill": {
     "duration": 0.009695,
     "end_time": "2025-01-07T10:04:18.356354",
     "exception": false,
     "start_time": "2025-01-07T10:04:18.346659",
     "status": "completed"
    },
    "tags": []
   },
   "source": [
    "# There's an issue between .unique() method and plt.bar(). Their cities order are different. we're gonna syncronized the order by simply fixing the variable 'cities'."
   ]
  },
  {
   "cell_type": "code",
   "execution_count": 21,
   "id": "6f3969cb",
   "metadata": {
    "execution": {
     "iopub.execute_input": "2025-01-07T10:04:18.377343Z",
     "iopub.status.busy": "2025-01-07T10:04:18.376986Z",
     "iopub.status.idle": "2025-01-07T10:04:18.396389Z",
     "shell.execute_reply": "2025-01-07T10:04:18.395407Z"
    },
    "papermill": {
     "duration": 0.031649,
     "end_time": "2025-01-07T10:04:18.397849",
     "exception": false,
     "start_time": "2025-01-07T10:04:18.366200",
     "status": "completed"
    },
    "tags": []
   },
   "outputs": [
    {
     "data": {
      "text/plain": [
       "array([' Seattle', ' Dallas', ' Portland', ' Los Angeles',\n",
       "       ' New York City', ' San Francisco', ' Boston', ' Atlanta',\n",
       "       ' Austin'], dtype=object)"
      ]
     },
     "execution_count": 21,
     "metadata": {},
     "output_type": "execute_result"
    }
   ],
   "source": [
    "cities=df['City'].unique()\n",
    "cities"
   ]
  },
  {
   "cell_type": "code",
   "execution_count": 22,
   "id": "5f7215e9",
   "metadata": {
    "execution": {
     "iopub.execute_input": "2025-01-07T10:04:18.419034Z",
     "iopub.status.busy": "2025-01-07T10:04:18.418648Z",
     "iopub.status.idle": "2025-01-07T10:04:18.505590Z",
     "shell.execute_reply": "2025-01-07T10:04:18.504367Z"
    },
    "papermill": {
     "duration": 0.099338,
     "end_time": "2025-01-07T10:04:18.507375",
     "exception": false,
     "start_time": "2025-01-07T10:04:18.408037",
     "status": "completed"
    },
    "tags": []
   },
   "outputs": [
    {
     "name": "stdout",
     "output_type": "stream",
     "text": [
      "[' Atlanta', ' Austin', ' Boston', ' Dallas', ' Los Angeles', ' New York City', ' Portland', ' San Francisco', ' Seattle']\n"
     ]
    }
   ],
   "source": [
    "cities = [i for i , df in df.groupby('City')]\n",
    "print(cities)"
   ]
  },
  {
   "cell_type": "code",
   "execution_count": 23,
   "id": "4fe7c511",
   "metadata": {
    "execution": {
     "iopub.execute_input": "2025-01-07T10:04:18.528860Z",
     "iopub.status.busy": "2025-01-07T10:04:18.528525Z",
     "iopub.status.idle": "2025-01-07T10:04:18.840236Z",
     "shell.execute_reply": "2025-01-07T10:04:18.839181Z"
    },
    "papermill": {
     "duration": 0.324291,
     "end_time": "2025-01-07T10:04:18.841842",
     "exception": false,
     "start_time": "2025-01-07T10:04:18.517551",
     "status": "completed"
    },
    "tags": []
   },
   "outputs": [
    {
     "data": {
      "image/png": "[encoded data removed]",
      "text/plain": [
       "<Figure size 640x480 with 1 Axes>"
      ]
     },
     "metadata": {},
     "output_type": "display_data"
    }
   ],
   "source": [
    "# So lets create bar plot now\n",
    "\n",
    "cities = [i for i, df in df.groupby('City')]\n",
    "\n",
    "plt.bar(cities, result2['Sales'], color='green')\n",
    "plt.xticks(cities, rotation='vertical')\n",
    "plt.show()"
   ]
  },
  {
   "cell_type": "markdown",
   "id": "9b3f9285",
   "metadata": {
    "papermill": {
     "duration": 0.010764,
     "end_time": "2025-01-07T10:04:18.863169",
     "exception": false,
     "start_time": "2025-01-07T10:04:18.852405",
     "status": "completed"
    },
    "tags": []
   },
   "source": [
    "**At what time are the products ordered most??**"
   ]
  },
  {
   "cell_type": "code",
   "execution_count": 24,
   "id": "d54b1b67",
   "metadata": {
    "execution": {
     "iopub.execute_input": "2025-01-07T10:04:18.885362Z",
     "iopub.status.busy": "2025-01-07T10:04:18.885042Z",
     "iopub.status.idle": "2025-01-07T10:04:18.960500Z",
     "shell.execute_reply": "2025-01-07T10:04:18.959422Z"
    },
    "papermill": {
     "duration": 0.0886,
     "end_time": "2025-01-07T10:04:18.962208",
     "exception": false,
     "start_time": "2025-01-07T10:04:18.873608",
     "status": "completed"
    },
    "tags": []
   },
   "outputs": [
    {
     "data": {
      "text/html": [
       "<div>\n",
       "<style scoped>\n",
       "    .dataframe tbody tr th:only-of-type {\n",
       "        vertical-align: middle;\n",
       "    }\n",
       "\n",
       "    .dataframe tbody tr th {\n",
       "        vertical-align: top;\n",
       "    }\n",
       "\n",
       "    .dataframe thead th {\n",
       "        text-align: right;\n",
       "    }\n",
       "</style>\n",
       "<table border=\"1\" class=\"dataframe\">\n",
       "  <thead>\n",
       "    <tr style=\"text-align: right;\">\n",
       "      <th></th>\n",
       "      <th>Order ID</th>\n",
       "      <th>Product</th>\n",
       "      <th>Quantity Ordered</th>\n",
       "      <th>Price Each</th>\n",
       "      <th>Order Date</th>\n",
       "      <th>Purchase Address</th>\n",
       "      <th>Month</th>\n",
       "      <th>Sales</th>\n",
       "      <th>City</th>\n",
       "    </tr>\n",
       "    <tr>\n",
       "      <th>Time</th>\n",
       "      <th></th>\n",
       "      <th></th>\n",
       "      <th></th>\n",
       "      <th></th>\n",
       "      <th></th>\n",
       "      <th></th>\n",
       "      <th></th>\n",
       "      <th></th>\n",
       "      <th></th>\n",
       "    </tr>\n",
       "  </thead>\n",
       "  <tbody>\n",
       "    <tr>\n",
       "      <th>00:00:00</th>\n",
       "      <td>82</td>\n",
       "      <td>82</td>\n",
       "      <td>82</td>\n",
       "      <td>82</td>\n",
       "      <td>82</td>\n",
       "      <td>82</td>\n",
       "      <td>82</td>\n",
       "      <td>82</td>\n",
       "      <td>82</td>\n",
       "    </tr>\n",
       "    <tr>\n",
       "      <th>00:01:00</th>\n",
       "      <td>65</td>\n",
       "      <td>65</td>\n",
       "      <td>65</td>\n",
       "      <td>65</td>\n",
       "      <td>65</td>\n",
       "      <td>65</td>\n",
       "      <td>65</td>\n",
       "      <td>65</td>\n",
       "      <td>65</td>\n",
       "    </tr>\n",
       "    <tr>\n",
       "      <th>00:02:00</th>\n",
       "      <td>71</td>\n",
       "      <td>71</td>\n",
       "      <td>71</td>\n",
       "      <td>71</td>\n",
       "      <td>71</td>\n",
       "      <td>71</td>\n",
       "      <td>71</td>\n",
       "      <td>71</td>\n",
       "      <td>71</td>\n",
       "    </tr>\n",
       "    <tr>\n",
       "      <th>00:03:00</th>\n",
       "      <td>89</td>\n",
       "      <td>89</td>\n",
       "      <td>89</td>\n",
       "      <td>89</td>\n",
       "      <td>89</td>\n",
       "      <td>89</td>\n",
       "      <td>89</td>\n",
       "      <td>89</td>\n",
       "      <td>89</td>\n",
       "    </tr>\n",
       "    <tr>\n",
       "      <th>00:04:00</th>\n",
       "      <td>84</td>\n",
       "      <td>84</td>\n",
       "      <td>84</td>\n",
       "      <td>84</td>\n",
       "      <td>84</td>\n",
       "      <td>84</td>\n",
       "      <td>84</td>\n",
       "      <td>84</td>\n",
       "      <td>84</td>\n",
       "    </tr>\n",
       "    <tr>\n",
       "      <th>...</th>\n",
       "      <td>...</td>\n",
       "      <td>...</td>\n",
       "      <td>...</td>\n",
       "      <td>...</td>\n",
       "      <td>...</td>\n",
       "      <td>...</td>\n",
       "      <td>...</td>\n",
       "      <td>...</td>\n",
       "      <td>...</td>\n",
       "    </tr>\n",
       "    <tr>\n",
       "      <th>23:55:00</th>\n",
       "      <td>97</td>\n",
       "      <td>97</td>\n",
       "      <td>97</td>\n",
       "      <td>97</td>\n",
       "      <td>97</td>\n",
       "      <td>97</td>\n",
       "      <td>97</td>\n",
       "      <td>97</td>\n",
       "      <td>97</td>\n",
       "    </tr>\n",
       "    <tr>\n",
       "      <th>23:56:00</th>\n",
       "      <td>73</td>\n",
       "      <td>73</td>\n",
       "      <td>73</td>\n",
       "      <td>73</td>\n",
       "      <td>73</td>\n",
       "      <td>73</td>\n",
       "      <td>73</td>\n",
       "      <td>73</td>\n",
       "      <td>73</td>\n",
       "    </tr>\n",
       "    <tr>\n",
       "      <th>23:57:00</th>\n",
       "      <td>88</td>\n",
       "      <td>88</td>\n",
       "      <td>88</td>\n",
       "      <td>88</td>\n",
       "      <td>88</td>\n",
       "      <td>88</td>\n",
       "      <td>88</td>\n",
       "      <td>88</td>\n",
       "      <td>88</td>\n",
       "    </tr>\n",
       "    <tr>\n",
       "      <th>23:58:00</th>\n",
       "      <td>89</td>\n",
       "      <td>89</td>\n",
       "      <td>89</td>\n",
       "      <td>89</td>\n",
       "      <td>89</td>\n",
       "      <td>89</td>\n",
       "      <td>89</td>\n",
       "      <td>89</td>\n",
       "      <td>89</td>\n",
       "    </tr>\n",
       "    <tr>\n",
       "      <th>23:59:00</th>\n",
       "      <td>96</td>\n",
       "      <td>96</td>\n",
       "      <td>96</td>\n",
       "      <td>96</td>\n",
       "      <td>96</td>\n",
       "      <td>96</td>\n",
       "      <td>96</td>\n",
       "      <td>96</td>\n",
       "      <td>96</td>\n",
       "    </tr>\n",
       "  </tbody>\n",
       "</table>\n",
       "<p>1440 rows × 9 columns</p>\n",
       "</div>"
      ],
      "text/plain": [
       "          Order ID  Product  Quantity Ordered  Price Each  Order Date  \\\n",
       "Time                                                                    \n",
       "00:00:00        82       82                82          82          82   \n",
       "00:01:00        65       65                65          65          65   \n",
       "00:02:00        71       71                71          71          71   \n",
       "00:03:00        89       89                89          89          89   \n",
       "00:04:00        84       84                84          84          84   \n",
       "...            ...      ...               ...         ...         ...   \n",
       "23:55:00        97       97                97          97          97   \n",
       "23:56:00        73       73                73          73          73   \n",
       "23:57:00        88       88                88          88          88   \n",
       "23:58:00        89       89                89          89          89   \n",
       "23:59:00        96       96                96          96          96   \n",
       "\n",
       "          Purchase Address  Month  Sales  City  \n",
       "Time                                            \n",
       "00:00:00                82     82     82    82  \n",
       "00:01:00                65     65     65    65  \n",
       "00:02:00                71     71     71    71  \n",
       "00:03:00                89     89     89    89  \n",
       "00:04:00                84     84     84    84  \n",
       "...                    ...    ...    ...   ...  \n",
       "23:55:00                97     97     97    97  \n",
       "23:56:00                73     73     73    73  \n",
       "23:57:00                88     88     88    88  \n",
       "23:58:00                89     89     89    89  \n",
       "23:59:00                96     96     96    96  \n",
       "\n",
       "[1440 rows x 9 columns]"
      ]
     },
     "execution_count": 24,
     "metadata": {},
     "output_type": "execute_result"
    }
   ],
   "source": [
    "df.groupby('Time').count()"
   ]
  },
  {
   "cell_type": "code",
   "execution_count": 25,
   "id": "5663f2a9",
   "metadata": {
    "execution": {
     "iopub.execute_input": "2025-01-07T10:04:18.986343Z",
     "iopub.status.busy": "2025-01-07T10:04:18.985907Z",
     "iopub.status.idle": "2025-01-07T10:04:19.015334Z",
     "shell.execute_reply": "2025-01-07T10:04:19.014296Z"
    },
    "papermill": {
     "duration": 0.043041,
     "end_time": "2025-01-07T10:04:19.016871",
     "exception": false,
     "start_time": "2025-01-07T10:04:18.973830",
     "status": "completed"
    },
    "tags": []
   },
   "outputs": [
    {
     "data": {
      "text/html": [
       "<div>\n",
       "<style scoped>\n",
       "    .dataframe tbody tr th:only-of-type {\n",
       "        vertical-align: middle;\n",
       "    }\n",
       "\n",
       "    .dataframe tbody tr th {\n",
       "        vertical-align: top;\n",
       "    }\n",
       "\n",
       "    .dataframe thead th {\n",
       "        text-align: right;\n",
       "    }\n",
       "</style>\n",
       "<table border=\"1\" class=\"dataframe\">\n",
       "  <thead>\n",
       "    <tr style=\"text-align: right;\">\n",
       "      <th></th>\n",
       "      <th>Order ID</th>\n",
       "      <th>Product</th>\n",
       "      <th>Quantity Ordered</th>\n",
       "      <th>Price Each</th>\n",
       "      <th>Order Date</th>\n",
       "      <th>Purchase Address</th>\n",
       "      <th>Month</th>\n",
       "      <th>Time</th>\n",
       "      <th>Sales</th>\n",
       "      <th>City</th>\n",
       "      <th>Hours</th>\n",
       "    </tr>\n",
       "  </thead>\n",
       "  <tbody>\n",
       "    <tr>\n",
       "      <th>0</th>\n",
       "      <td>236670</td>\n",
       "      <td>Wired Headphones</td>\n",
       "      <td>2.0</td>\n",
       "      <td>11.99</td>\n",
       "      <td>2019-08-31 22:21:00</td>\n",
       "      <td>359 Spruce St, Seattle, WA 98101</td>\n",
       "      <td>8</td>\n",
       "      <td>22:21:00</td>\n",
       "      <td>23.98</td>\n",
       "      <td>Seattle</td>\n",
       "      <td>22</td>\n",
       "    </tr>\n",
       "    <tr>\n",
       "      <th>1</th>\n",
       "      <td>236671</td>\n",
       "      <td>Bose SoundSport Headphones</td>\n",
       "      <td>1.0</td>\n",
       "      <td>99.99</td>\n",
       "      <td>2019-08-15 15:11:00</td>\n",
       "      <td>492 Ridge St, Dallas, TX 75001</td>\n",
       "      <td>8</td>\n",
       "      <td>15:11:00</td>\n",
       "      <td>99.99</td>\n",
       "      <td>Dallas</td>\n",
       "      <td>15</td>\n",
       "    </tr>\n",
       "    <tr>\n",
       "      <th>2</th>\n",
       "      <td>236672</td>\n",
       "      <td>iPhone</td>\n",
       "      <td>1.0</td>\n",
       "      <td>700.00</td>\n",
       "      <td>2019-08-06 14:40:00</td>\n",
       "      <td>149 7th St, Portland, OR 97035</td>\n",
       "      <td>8</td>\n",
       "      <td>14:40:00</td>\n",
       "      <td>700.00</td>\n",
       "      <td>Portland</td>\n",
       "      <td>14</td>\n",
       "    </tr>\n",
       "    <tr>\n",
       "      <th>3</th>\n",
       "      <td>236673</td>\n",
       "      <td>AA Batteries (4-pack)</td>\n",
       "      <td>2.0</td>\n",
       "      <td>3.84</td>\n",
       "      <td>2019-08-29 20:59:00</td>\n",
       "      <td>631 2nd St, Los Angeles, CA 90001</td>\n",
       "      <td>8</td>\n",
       "      <td>20:59:00</td>\n",
       "      <td>7.68</td>\n",
       "      <td>Los Angeles</td>\n",
       "      <td>20</td>\n",
       "    </tr>\n",
       "    <tr>\n",
       "      <th>4</th>\n",
       "      <td>236674</td>\n",
       "      <td>AA Batteries (4-pack)</td>\n",
       "      <td>2.0</td>\n",
       "      <td>3.84</td>\n",
       "      <td>2019-08-15 19:53:00</td>\n",
       "      <td>736 14th St, New York City, NY 10001</td>\n",
       "      <td>8</td>\n",
       "      <td>19:53:00</td>\n",
       "      <td>7.68</td>\n",
       "      <td>New York City</td>\n",
       "      <td>19</td>\n",
       "    </tr>\n",
       "  </tbody>\n",
       "</table>\n",
       "</div>"
      ],
      "text/plain": [
       "  Order ID                     Product  Quantity Ordered  Price Each  \\\n",
       "0   236670            Wired Headphones               2.0       11.99   \n",
       "1   236671  Bose SoundSport Headphones               1.0       99.99   \n",
       "2   236672                      iPhone               1.0      700.00   \n",
       "3   236673       AA Batteries (4-pack)               2.0        3.84   \n",
       "4   236674       AA Batteries (4-pack)               2.0        3.84   \n",
       "\n",
       "           Order Date                      Purchase Address  Month      Time  \\\n",
       "0 2019-08-31 22:21:00      359 Spruce St, Seattle, WA 98101      8  22:21:00   \n",
       "1 2019-08-15 15:11:00        492 Ridge St, Dallas, TX 75001      8  15:11:00   \n",
       "2 2019-08-06 14:40:00        149 7th St, Portland, OR 97035      8  14:40:00   \n",
       "3 2019-08-29 20:59:00     631 2nd St, Los Angeles, CA 90001      8  20:59:00   \n",
       "4 2019-08-15 19:53:00  736 14th St, New York City, NY 10001      8  19:53:00   \n",
       "\n",
       "    Sales            City  Hours  \n",
       "0   23.98         Seattle     22  \n",
       "1   99.99          Dallas     15  \n",
       "2  700.00        Portland     14  \n",
       "3    7.68     Los Angeles     20  \n",
       "4    7.68   New York City     19  "
      ]
     },
     "execution_count": 25,
     "metadata": {},
     "output_type": "execute_result"
    }
   ],
   "source": [
    "# changing our time into numbers\n",
    "\n",
    "df['Hours'] = pd.to_datetime(df['Order Date']).dt.hour\n",
    "df.head()"
   ]
  },
  {
   "cell_type": "code",
   "execution_count": 26,
   "id": "84bb46ff",
   "metadata": {
    "execution": {
     "iopub.execute_input": "2025-01-07T10:04:19.040246Z",
     "iopub.status.busy": "2025-01-07T10:04:19.039844Z",
     "iopub.status.idle": "2025-01-07T10:04:19.413072Z",
     "shell.execute_reply": "2025-01-07T10:04:19.412022Z"
    },
    "papermill": {
     "duration": 0.386883,
     "end_time": "2025-01-07T10:04:19.414950",
     "exception": false,
     "start_time": "2025-01-07T10:04:19.028067",
     "status": "completed"
    },
    "tags": []
   },
   "outputs": [
    {
     "data": {
      "image/png": "[encoded data removed]",
      "text/plain": [
       "<Figure size 640x480 with 1 Axes>"
      ]
     },
     "metadata": {},
     "output_type": "display_data"
    }
   ],
   "source": [
    "result3 = df.groupby(['Hours'])['Quantity Ordered'].count()\n",
    "time = [i for i, df in df.groupby('Hours')]\n",
    "\n",
    "plt.plot(time, result3)\n",
    "plt.xticks(time)\n",
    "plt.xlabel('Hours')\n",
    "plt.ylabel('Orders')\n",
    "plt.grid()\n",
    "plt.show()"
   ]
  },
  {
   "cell_type": "markdown",
   "id": "1d0bdc8d",
   "metadata": {
    "papermill": {
     "duration": 0.012759,
     "end_time": "2025-01-07T10:04:19.442337",
     "exception": false,
     "start_time": "2025-01-07T10:04:19.429578",
     "status": "completed"
    },
    "tags": []
   },
   "source": [
    "**Now we can see that the most beneficial time to play advertisement is before 11 AM and 19 PM**"
   ]
  },
  {
   "cell_type": "markdown",
   "id": "f17d6299",
   "metadata": {
    "papermill": {
     "duration": 0.01166,
     "end_time": "2025-01-07T10:04:19.466316",
     "exception": false,
     "start_time": "2025-01-07T10:04:19.454656",
     "status": "completed"
    },
    "tags": []
   },
   "source": [
    "# What products are sold most??"
   ]
  },
  {
   "cell_type": "code",
   "execution_count": 27,
   "id": "30fedce1",
   "metadata": {
    "execution": {
     "iopub.execute_input": "2025-01-07T10:04:19.490996Z",
     "iopub.status.busy": "2025-01-07T10:04:19.490620Z",
     "iopub.status.idle": "2025-01-07T10:04:19.494746Z",
     "shell.execute_reply": "2025-01-07T10:04:19.493934Z"
    },
    "papermill": {
     "duration": 0.018225,
     "end_time": "2025-01-07T10:04:19.496353",
     "exception": false,
     "start_time": "2025-01-07T10:04:19.478128",
     "status": "completed"
    },
    "tags": []
   },
   "outputs": [],
   "source": [
    "prd = df.groupby('Product')"
   ]
  },
  {
   "cell_type": "code",
   "execution_count": 28,
   "id": "02c2c5ee",
   "metadata": {
    "execution": {
     "iopub.execute_input": "2025-01-07T10:04:19.521366Z",
     "iopub.status.busy": "2025-01-07T10:04:19.521039Z",
     "iopub.status.idle": "2025-01-07T10:04:19.929133Z",
     "shell.execute_reply": "2025-01-07T10:04:19.928152Z"
    },
    "papermill": {
     "duration": 0.422842,
     "end_time": "2025-01-07T10:04:19.931086",
     "exception": false,
     "start_time": "2025-01-07T10:04:19.508244",
     "status": "completed"
    },
    "tags": []
   },
   "outputs": [
    {
     "data": {
      "image/png": "[encoded data removed]",
      "text/plain": [
       "<Figure size 640x480 with 1 Axes>"
      ]
     },
     "metadata": {},
     "output_type": "display_data"
    }
   ],
   "source": [
    "# lets visualize to understand our data\n",
    "\n",
    "quant_order = prd['Quantity Ordered'].sum()\n",
    "\n",
    "product = [ i for i, df in prd]\n",
    "\n",
    "plt.bar(product, quant_order)\n",
    "plt.xlabel('Product')\n",
    "plt.ylabel('Quantity Ordered')\n",
    "plt.xticks(product, rotation='vertical')\n",
    "plt.show()"
   ]
  }
 ],
 "metadata": {
  "kaggle": {
   "accelerator": "none",
   "dataSources": [
    {
     "datasetId": 6432923,
     "sourceId": 10384375,
     "sourceType": "datasetVersion"
    }
   ],
   "dockerImageVersionId": 30822,
   "isGpuEnabled": false,
   "isInternetEnabled": true,
   "language": "python",
   "sourceType": "notebook"
  },
  "kernelspec": {
   "display_name": "Python 3",
   "language": "python",
   "name": "python3"
  },
  "language_info": {
   "codemirror_mode": {
    "name": "ipython",
    "version": 3
   },
   "file_extension": ".py",
   "mimetype": "text/x-python",
   "name": "python",
   "nbconvert_exporter": "python",
   "pygments_lexer": "ipython3",
   "version": "3.10.12"
  },
  "papermill": {
   "default_parameters": {},
   "duration": 9.576259,
   "end_time": "2025-01-07T10:04:20.665262",
   "environment_variables": {},
   "exception": null,
   "input_path": "__notebook__.ipynb",
   "output_path": "__notebook__.ipynb",
   "parameters": {},
   "start_time": "2025-01-07T10:04:11.089003",
   "version": "2.6.0"
  }
 },
 "nbformat": 4,
 "nbformat_minor": 5
}
